{
 "cells": [
  {
   "cell_type": "code",
   "execution_count": 3,
   "metadata": {},
   "outputs": [],
   "source": [
    "import numpy as np\n",
    "import pandas as pd"
   ]
  },
  {
   "cell_type": "code",
   "execution_count": 45,
   "metadata": {},
   "outputs": [
    {
     "data": {
      "text/html": [
       "<div>\n",
       "<style scoped>\n",
       "    .dataframe tbody tr th:only-of-type {\n",
       "        vertical-align: middle;\n",
       "    }\n",
       "\n",
       "    .dataframe tbody tr th {\n",
       "        vertical-align: top;\n",
       "    }\n",
       "\n",
       "    .dataframe thead th {\n",
       "        text-align: right;\n",
       "    }\n",
       "</style>\n",
       "<table border=\"1\" class=\"dataframe\">\n",
       "  <thead>\n",
       "    <tr style=\"text-align: right;\">\n",
       "      <th></th>\n",
       "      <th>country</th>\n",
       "      <th>last_update</th>\n",
       "      <th>confirmed</th>\n",
       "      <th>deaths</th>\n",
       "      <th>recovered</th>\n",
       "      <th>active</th>\n",
       "      <th>delta_confirmed</th>\n",
       "      <th>delta_recovered</th>\n",
       "    </tr>\n",
       "  </thead>\n",
       "  <tbody>\n",
       "    <tr>\n",
       "      <th>0</th>\n",
       "      <td>Canada</td>\n",
       "      <td>2020-01-22</td>\n",
       "      <td>0</td>\n",
       "      <td>0</td>\n",
       "      <td>NaN</td>\n",
       "      <td>NaN</td>\n",
       "      <td>0</td>\n",
       "      <td>NaN</td>\n",
       "    </tr>\n",
       "    <tr>\n",
       "      <th>1</th>\n",
       "      <td>Canada</td>\n",
       "      <td>2020-01-23</td>\n",
       "      <td>0</td>\n",
       "      <td>0</td>\n",
       "      <td>NaN</td>\n",
       "      <td>NaN</td>\n",
       "      <td>0</td>\n",
       "      <td>NaN</td>\n",
       "    </tr>\n",
       "    <tr>\n",
       "      <th>2</th>\n",
       "      <td>Canada</td>\n",
       "      <td>2020-01-24</td>\n",
       "      <td>0</td>\n",
       "      <td>0</td>\n",
       "      <td>NaN</td>\n",
       "      <td>NaN</td>\n",
       "      <td>0</td>\n",
       "      <td>NaN</td>\n",
       "    </tr>\n",
       "    <tr>\n",
       "      <th>3</th>\n",
       "      <td>Canada</td>\n",
       "      <td>2020-01-25</td>\n",
       "      <td>0</td>\n",
       "      <td>0</td>\n",
       "      <td>NaN</td>\n",
       "      <td>NaN</td>\n",
       "      <td>0</td>\n",
       "      <td>NaN</td>\n",
       "    </tr>\n",
       "    <tr>\n",
       "      <th>4</th>\n",
       "      <td>Canada</td>\n",
       "      <td>2020-01-26</td>\n",
       "      <td>1</td>\n",
       "      <td>0</td>\n",
       "      <td>NaN</td>\n",
       "      <td>NaN</td>\n",
       "      <td>1</td>\n",
       "      <td>NaN</td>\n",
       "    </tr>\n",
       "  </tbody>\n",
       "</table>\n",
       "</div>"
      ],
      "text/plain": [
       "  country last_update  confirmed  deaths  recovered  active  delta_confirmed  \\\n",
       "0  Canada  2020-01-22          0       0        NaN     NaN                0   \n",
       "1  Canada  2020-01-23          0       0        NaN     NaN                0   \n",
       "2  Canada  2020-01-24          0       0        NaN     NaN                0   \n",
       "3  Canada  2020-01-25          0       0        NaN     NaN                0   \n",
       "4  Canada  2020-01-26          1       0        NaN     NaN                1   \n",
       "\n",
       "   delta_recovered  \n",
       "0              NaN  \n",
       "1              NaN  \n",
       "2              NaN  \n",
       "3              NaN  \n",
       "4              NaN  "
      ]
     },
     "execution_count": 45,
     "metadata": {},
     "output_type": "execute_result"
    }
   ],
   "source": [
    "data = pd.read_csv(\"canadas-corona-daily.csv\")\n",
    "data.head()"
   ]
  },
  {
   "cell_type": "code",
   "execution_count": 55,
   "metadata": {
    "scrolled": true
   },
   "outputs": [
    {
     "name": "stdout",
     "output_type": "stream",
     "text": [
      "[['Canada' '2020-01-26' 1 0 nan nan 1 nan]\n",
      " ['Canada' '2020-01-27' 1 0 nan nan 0 nan]\n",
      " ['Canada' '2020-01-28' 2 0 nan nan 1 nan]\n",
      " ['Canada' '2020-01-29' 2 0 nan nan 0 nan]\n",
      " ['Canada' '2020-01-30' 2 0 nan nan 0 nan]\n",
      " ['Canada' '2020-01-31' 4 0 nan nan 2 nan]\n",
      " ['Canada' '2020-02-01' 4 0 nan nan 0 nan]\n",
      " ['Canada' '2020-02-02' 4 0 nan nan 0 nan]\n",
      " ['Canada' '2020-02-03' 4 0 nan nan 0 nan]\n",
      " ['Canada' '2020-02-04' 4 0 nan nan 0 nan]\n",
      " ['Canada' '2020-02-05' 5 0 nan nan 1 nan]\n",
      " ['Canada' '2020-02-06' 5 0 nan nan 0 nan]\n",
      " ['Canada' '2020-02-07' 7 0 nan nan 2 nan]\n",
      " ['Canada' '2020-02-08' 7 0 nan nan 0 nan]\n",
      " ['Canada' '2020-02-09' 7 0 nan nan 0 nan]\n",
      " ['Canada' '2020-02-10' 7 0 nan nan 0 nan]\n",
      " ['Canada' '2020-02-11' 7 0 nan nan 0 nan]\n",
      " ['Canada' '2020-02-12' 7 0 nan nan 0 nan]\n",
      " ['Canada' '2020-02-13' 7 0 nan nan 0 nan]\n",
      " ['Canada' '2020-02-14' 7 0 nan nan 0 nan]\n",
      " ['Canada' '2020-02-15' 7 0 nan nan 0 nan]\n",
      " ['Canada' '2020-02-16' 7 0 nan nan 0 nan]\n",
      " ['Canada' '2020-02-17' 8 0 nan nan 1 nan]\n",
      " ['Canada' '2020-02-18' 8 0 nan nan 0 nan]\n",
      " ['Canada' '2020-02-19' 8 0 nan nan 0 nan]\n",
      " ['Canada' '2020-02-20' 8 0 nan nan 0 nan]\n",
      " ['Canada' '2020-02-21' 9 0 nan nan 1 nan]\n",
      " ['Canada' '2020-02-22' 9 0 nan nan 0 nan]\n",
      " ['Canada' '2020-02-23' 9 0 nan nan 0 nan]\n",
      " ['Canada' '2020-02-24' 10 0 nan nan 1 nan]\n",
      " ['Canada' '2020-02-25' 11 0 nan nan 1 nan]\n",
      " ['Canada' '2020-02-26' 11 0 nan nan 0 nan]\n",
      " ['Canada' '2020-02-27' 13 0 nan nan 2 nan]\n",
      " ['Canada' '2020-02-28' 14 0 nan nan 1 nan]\n",
      " ['Canada' '2020-02-29' 20 0 nan nan 6 nan]\n",
      " ['Canada' '2020-03-01' 24 0 nan nan 4 nan]\n",
      " ['Canada' '2020-03-02' 27 0 nan nan 3 nan]\n",
      " ['Canada' '2020-03-03' 30 0 nan nan 3 nan]\n",
      " ['Canada' '2020-03-04' 33 0 nan nan 3 nan]\n",
      " ['Canada' '2020-03-05' 37 0 nan nan 4 nan]\n",
      " ['Canada' '2020-03-06' 49 0 nan nan 12 nan]\n",
      " ['Canada' '2020-03-07' 54 0 nan nan 5 nan]\n",
      " ['Canada' '2020-03-08' 64 0 nan nan 10 nan]\n",
      " ['Canada' '2020-03-09' 77 1 nan nan 13 nan]\n",
      " ['Canada' '2020-03-10' 79 1 nan nan 2 nan]\n",
      " ['Canada' '2020-03-11' 108 1 nan nan 29 nan]\n",
      " ['Canada' '2020-03-12' 117 1 nan nan 9 nan]\n",
      " ['Canada' '2020-03-13' 193 1 nan nan 76 nan]\n",
      " ['Canada' '2020-03-14' 198 1 nan nan 5 nan]\n",
      " ['Canada' '2020-03-15' 252 1 nan nan 54 nan]\n",
      " ['Canada' '2020-03-16' 415 4 nan nan 163 nan]\n",
      " ['Canada' '2020-03-17' 478 5 nan nan 63 nan]\n",
      " ['Canada' '2020-03-18' 657 8 nan nan 179 nan]\n",
      " ['Canada' '2020-03-19' 800 9 nan nan 143 nan]\n",
      " ['Canada' '2020-03-20' 943 12 nan nan 143 nan]\n",
      " ['Canada' '2020-03-21' 1277 19 nan nan 334 nan]\n",
      " ['Canada' '2020-03-22' 1469 21 nan nan 192 nan]\n",
      " ['Canada' '2020-03-23' 2088 25 nan nan 619 nan]\n",
      " ['Canada' '2020-03-24' 2790 26 nan nan 702 nan]\n",
      " ['Canada' '2020-03-25' 3251 30 nan nan 461 nan]\n",
      " ['Canada' '2020-03-26' 4042 38 nan nan 791 nan]\n",
      " ['Canada' '2020-03-27' 4682 54 nan nan 640 nan]\n",
      " ['Canada' '2020-03-28' 5576 61 nan nan 894 nan]\n",
      " ['Canada' '2020-03-29' 6280 64 nan nan 704 nan]\n",
      " ['Canada' '2020-03-30' 7398 80 nan nan 1118 nan]\n",
      " ['Canada' '2020-03-31' 8527 101 nan nan 1129 nan]\n",
      " ['Canada' '2020-04-01' 9560 109 nan nan 1033 nan]\n",
      " ['Canada' '2020-04-02' 11284 139 nan nan 1724 nan]\n",
      " ['Canada' '2020-04-03' 12437 179 nan nan 1153 nan]\n",
      " ['Canada' '2020-04-04' 12978 218 nan nan 541 nan]]\n"
     ]
    }
   ],
   "source": [
    "ndata = data.to_numpy()\n",
    "ndata = ndata[4:,:] # get data starting from first occurance of corona \n",
    "print(ndata)"
   ]
  },
  {
   "cell_type": "code",
   "execution_count": 63,
   "metadata": {},
   "outputs": [
    {
     "data": {
      "image/png": "[encoded data removed]",
      "text/plain": [
       "<Figure size 432x288 with 1 Axes>"
      ]
     },
     "metadata": {
      "needs_background": "light"
     },
     "output_type": "display_data"
    }
   ],
   "source": [
    "import matplotlib.pyplot as plt\n",
    "confirmed = ndata[:,2].astype(float)\n",
    "deceased = ndata[:,3].astype(float)\n",
    "netconfirmed = confirmed - deceased\n",
    "plt.plot(netconfirmed)\n",
    "plt.show()"
   ]
  },
  {
   "cell_type": "code",
   "execution_count": 74,
   "metadata": {},
   "outputs": [
    {
     "name": "stdout",
     "output_type": "stream",
     "text": [
      "-2.1475071490522746 0.17099051746084398\n"
     ]
    }
   ],
   "source": [
    "# Fit to an exponential model\n",
    "x = np.arange(len(netconfirmed))\n",
    "y = netconfirmed\n",
    "'''\n",
    "y = Ae^(Bx)\n",
    "log(y) = log(A) + Bx * log(e) -> log(y) = log(A) + Bx\n",
    "So fit (log y) against x.\n",
    "e^(log(y)) = e^(log(A)) * e^(Bx) -> y = e^(log(A)) * e^(Bx)\n",
    "\n",
    "Note that fitting (log y) as if it is linear will emphasize small values of y, causing large deviation for \n",
    "large y. This is because polyfit (linear regression) works by minimizing ∑i (ΔY)2 = ∑i (Yi − Ŷi)2. \n",
    "When Yi = log yi, the residues ΔYi = Δ(log yi) ≈ Δyi / |yi|. So even if polyfit makes a very bad decision \n",
    "or large y, the \"divide-by-|y|\" factor will compensate for it, causing polyfit favors small values.\n",
    "\n",
    "This could be alleviated by giving each entry a \"weight\" proportional to y. polyfit supports \n",
    "weighted-least-squares via the w keyword argument.\n",
    "\n",
    "credit to kennytm at stack overflow\n",
    "https://stackoverflow.com/questions/3433486/how-to-do-exponential-and-logarithmic-curve-fitting-in-python-i-found-only-poly\n",
    "'''\n",
    "\n",
    "B,log_A = np.polyfit(x, np.log(y), 1, w=np.sqrt(y))\n",
    "print(log_A, B)"
   ]
  },
  {
   "cell_type": "code",
   "execution_count": 75,
   "metadata": {},
   "outputs": [],
   "source": [
    "def exp_approx(x): return np.exp(log_A) * np.exp(B * x)\n",
    "\n",
    "vec_exp_approx = np.vectorize(exp_approx)\n",
    "approx = vec_exp_approx(np.arange(len(netconfirmed)))"
   ]
  },
  {
   "cell_type": "code",
   "execution_count": 77,
   "metadata": {},
   "outputs": [
    {
     "data": {
      "image/png": "[encoded data removed]",
      "text/plain": [
       "<Figure size 432x288 with 1 Axes>"
      ]
     },
     "metadata": {
      "needs_background": "light"
     },
     "output_type": "display_data"
    }
   ],
   "source": [
    "plt.plot(approx)\n",
    "plt.show()"
   ]
  },
  {
   "cell_type": "code",
   "execution_count": 78,
   "metadata": {},
   "outputs": [
    {
     "data": {
      "text/plain": [
       "'\\nThis replicates the procedure outlined in \\nCOVID-19 in Canada: Predictions for the future and control lessons from Asia paper by\\nCornelius Christian and Francis Christian which can be found here:\\nhttps://www.medrxiv.org/content/10.1101/2020.03.21.20040667v1\\n'"
      ]
     },
     "execution_count": 78,
     "metadata": {},
     "output_type": "execute_result"
    }
   ],
   "source": [
    "'''\n",
    "This reproduces the procedure outlined in \n",
    "COVID-19 in Canada: Predictions for the future and control lessons from Asia paper by\n",
    "Cornelius Christian and Francis Christian which can be found here:\n",
    "https://www.medrxiv.org/content/10.1101/2020.03.21.20040667v1\n",
    "'''"
   ]
  },
  {
   "cell_type": "code",
   "execution_count": null,
   "metadata": {},
   "outputs": [],
   "source": [
    "# Fit to Normal Distribution\n"
   ]
  }
 ],
 "metadata": {
  "kernelspec": {
   "display_name": "Python 3",
   "language": "python",
   "name": "python3"
  },
  "language_info": {
   "codemirror_mode": {
    "name": "ipython",
    "version": 3
   },
   "file_extension": ".py",
   "mimetype": "text/x-python",
   "name": "python",
   "nbconvert_exporter": "python",
   "pygments_lexer": "ipython3",
   "version": "3.7.4"
  }
 },
 "nbformat": 4,
 "nbformat_minor": 2
}
